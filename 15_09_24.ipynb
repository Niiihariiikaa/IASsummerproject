{
  "nbformat": 4,
  "nbformat_minor": 0,
  "metadata": {
    "colab": {
      "provenance": [],
      "include_colab_link": true
    },
    "kernelspec": {
      "name": "python3",
      "display_name": "Python 3"
    },
    "language_info": {
      "name": "python"
    }
  },
  "cells": [
    {
      "cell_type": "markdown",
      "metadata": {
        "id": "view-in-github",
        "colab_type": "text"
      },
      "source": [
        "<a href=\"https://colab.research.google.com/github/Niiihariiikaa/IASsummerproject/blob/main/15_09_24.ipynb\" target=\"_parent\"><img src=\"https://colab.research.google.com/assets/colab-badge.svg\" alt=\"Open In Colab\"/></a>"
      ]
    },
    {
      "cell_type": "markdown",
      "source": [
        "Set\n"
      ],
      "metadata": {
        "id": "F5UgcbycaUvi"
      }
    },
    {
      "cell_type": "code",
      "execution_count": null,
      "metadata": {
        "colab": {
          "base_uri": "https://localhost:8080/"
        },
        "id": "KUozWNkDZ4Z7",
        "outputId": "480491b9-caa1-427e-d902-084400de4dd4"
      },
      "outputs": [
        {
          "output_type": "stream",
          "name": "stdout",
          "text": [
            "{1, 2, 3, 4, 5}\n"
          ]
        }
      ],
      "source": [
        "my_list = [1, 2, 2, 3, 4, 4, 5]\n",
        "unique_elements = set(my_list)\n",
        "print(unique_elements)"
      ]
    },
    {
      "cell_type": "code",
      "source": [
        "set1 = {1, 2, 3, 4}\n",
        "set2 = {3, 4, 5, 6}\n",
        "union = set1.union(set2)          # {1, 2, 3, 4, 5, 6}\n",
        "intersection = set1.intersection(set2)  # {3, 4}\n",
        "difference = set1.difference(set2)  # {1, 2}\n",
        "print(union,intersection,difference,sep=\"\\n\")"
      ],
      "metadata": {
        "colab": {
          "base_uri": "https://localhost:8080/"
        },
        "id": "xziFeSNSaBe1",
        "outputId": "35a710bc-4475-4e4f-bd6d-36ee9f5f4ffd"
      },
      "execution_count": null,
      "outputs": [
        {
          "output_type": "stream",
          "name": "stdout",
          "text": [
            "{1, 2, 3, 4, 5, 6}\n",
            "{3, 4}\n",
            "{1, 2}\n"
          ]
        }
      ]
    },
    {
      "cell_type": "code",
      "source": [
        "prohibited_items = {\"knife\", \"gun\", \"drugs\"}\n",
        "item = \"knife\"\n",
        "if item in prohibited_items:\n",
        "    print(f\"{item} is prohibited.\")"
      ],
      "metadata": {
        "colab": {
          "base_uri": "https://localhost:8080/"
        },
        "id": "XJ1q0ePGaGnN",
        "outputId": "957c117a-e5e1-4dd5-f3ef-1bd3daf69654"
      },
      "execution_count": null,
      "outputs": [
        {
          "output_type": "stream",
          "name": "stdout",
          "text": [
            "knife is prohibited.\n"
          ]
        }
      ]
    },
    {
      "cell_type": "code",
      "source": [
        "set1={1,2,3,4,5,5,43,2,2,3}\n",
        "list1=list(set1)\n",
        "print(set1)\n",
        "print(list1)\n",
        "print(set1[3])"
      ],
      "metadata": {
        "colab": {
          "base_uri": "https://localhost:8080/",
          "height": 211
        },
        "id": "ZwgxZ2J9ewRY",
        "outputId": "2e00cf00-2938-48ff-d2b8-4a74055765cb"
      },
      "execution_count": null,
      "outputs": [
        {
          "output_type": "stream",
          "name": "stdout",
          "text": [
            "{1, 2, 3, 4, 5, 43}\n",
            "[1, 2, 3, 4, 5, 43]\n"
          ]
        },
        {
          "output_type": "error",
          "ename": "TypeError",
          "evalue": "'set' object is not subscriptable",
          "traceback": [
            "\u001b[0;31m---------------------------------------------------------------------------\u001b[0m",
            "\u001b[0;31mTypeError\u001b[0m                                 Traceback (most recent call last)",
            "\u001b[0;32m<ipython-input-7-2da21c400527>\u001b[0m in \u001b[0;36m<cell line: 5>\u001b[0;34m()\u001b[0m\n\u001b[1;32m      3\u001b[0m \u001b[0mprint\u001b[0m\u001b[0;34m(\u001b[0m\u001b[0mset1\u001b[0m\u001b[0;34m)\u001b[0m\u001b[0;34m\u001b[0m\u001b[0;34m\u001b[0m\u001b[0m\n\u001b[1;32m      4\u001b[0m \u001b[0mprint\u001b[0m\u001b[0;34m(\u001b[0m\u001b[0mlist1\u001b[0m\u001b[0;34m)\u001b[0m\u001b[0;34m\u001b[0m\u001b[0;34m\u001b[0m\u001b[0m\n\u001b[0;32m----> 5\u001b[0;31m \u001b[0mprint\u001b[0m\u001b[0;34m(\u001b[0m\u001b[0mset1\u001b[0m\u001b[0;34m[\u001b[0m\u001b[0;36m3\u001b[0m\u001b[0;34m]\u001b[0m\u001b[0;34m)\u001b[0m\u001b[0;34m\u001b[0m\u001b[0;34m\u001b[0m\u001b[0m\n\u001b[0m",
            "\u001b[0;31mTypeError\u001b[0m: 'set' object is not subscriptable"
          ]
        }
      ]
    },
    {
      "cell_type": "code",
      "source": [
        "list1=[5,4,3,2,1,1]\n",
        "set1={5,4,3,2,1,1}\n",
        "print(list1,set1)"
      ],
      "metadata": {
        "colab": {
          "base_uri": "https://localhost:8080/"
        },
        "id": "lmoPUx_MflNa",
        "outputId": "094205f9-c470-4ff2-d319-65abe99b4c19"
      },
      "execution_count": null,
      "outputs": [
        {
          "output_type": "stream",
          "name": "stdout",
          "text": [
            "[5, 4, 3, 2, 1, 1] {1, 2, 3, 4, 5}\n"
          ]
        }
      ]
    },
    {
      "cell_type": "markdown",
      "source": [
        "Dictionaries"
      ],
      "metadata": {
        "id": "MTfU3ASJaTMv"
      }
    },
    {
      "cell_type": "code",
      "source": [
        "record = {\n",
        "    'id': 1,\n",
        "    'name': 'John Doe',\n",
        "    'email': 'john.doe@example.com',\n",
        "    'age': 30\n",
        "}\n",
        "print(record['id'])\n",
        "record.get(\"name\")"
      ],
      "metadata": {
        "colab": {
          "base_uri": "https://localhost:8080/",
          "height": 53
        },
        "id": "hJlepnkRaHOz",
        "outputId": "39b2f350-578b-48d7-f202-2a04decefa64"
      },
      "execution_count": null,
      "outputs": [
        {
          "output_type": "stream",
          "name": "stdout",
          "text": [
            "1\n"
          ]
        },
        {
          "output_type": "execute_result",
          "data": {
            "text/plain": [
              "'John Doe'"
            ],
            "application/vnd.google.colaboratory.intrinsic+json": {
              "type": "string"
            }
          },
          "metadata": {},
          "execution_count": 18
        }
      ]
    },
    {
      "cell_type": "code",
      "source": [
        "dict1={\"apple\":1,\"banana\":2,\"orange\":3}\n",
        "print(dict)\n",
        "keys=dict1.keys()\n",
        "values=dict1.values()\n",
        "print(keys)\n",
        "print(values)\n",
        "a=24"
      ],
      "metadata": {
        "colab": {
          "base_uri": "https://localhost:8080/"
        },
        "id": "p9-WWgLMgTuP",
        "outputId": "1ab1a874-da6c-4eee-f36e-274195326334"
      },
      "execution_count": null,
      "outputs": [
        {
          "output_type": "stream",
          "name": "stdout",
          "text": [
            "{'apple': 1, 'banana': 2, 'orange': 3}\n",
            "dict_keys(['apple', 'banana', 'orange'])\n",
            "dict_values([1, 2, 3])\n"
          ]
        }
      ]
    },
    {
      "cell_type": "code",
      "source": [
        "elements = ['apple', 'banana', 'apple', 'orange', 'banana', 'apple']\n",
        "frequency = {}\n",
        "for item in elements:\n",
        "    frequency[item] = frequency.get(item, 0) + 1\n",
        "    print(frequency)\n",
        "# Output: {'apple': 3, 'banana': 2, 'orange': 1}\n",
        "print(frequency)"
      ],
      "metadata": {
        "colab": {
          "base_uri": "https://localhost:8080/"
        },
        "id": "4-NOzjDRbhZB",
        "outputId": "4eb62e3c-0418-4bf5-abd7-0b553be8dc4f"
      },
      "execution_count": null,
      "outputs": [
        {
          "output_type": "stream",
          "name": "stdout",
          "text": [
            "{'apple': 1}\n",
            "{'apple': 1, 'banana': 1}\n",
            "{'apple': 2, 'banana': 1}\n",
            "{'apple': 2, 'banana': 1, 'orange': 1}\n",
            "{'apple': 2, 'banana': 2, 'orange': 1}\n",
            "{'apple': 3, 'banana': 2, 'orange': 1}\n",
            "{'apple': 3, 'banana': 2, 'orange': 1}\n"
          ]
        }
      ]
    }
  ]
}
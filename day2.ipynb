{
  "nbformat": 4,
  "nbformat_minor": 0,
  "metadata": {
    "colab": {
      "provenance": [],
      "include_colab_link": true
    },
    "kernelspec": {
      "name": "python3",
      "display_name": "Python 3"
    },
    "language_info": {
      "name": "python"
    }
  },
  "cells": [
    {
      "cell_type": "markdown",
      "metadata": {
        "id": "view-in-github",
        "colab_type": "text"
      },
      "source": [
        "<a href=\"https://colab.research.google.com/github/Niiihariiikaa/IASsummerproject/blob/main/day2.ipynb\" target=\"_parent\"><img src=\"https://colab.research.google.com/assets/colab-badge.svg\" alt=\"Open In Colab\"/></a>"
      ]
    },
    {
      "cell_type": "markdown",
      "source": [],
      "metadata": {
        "id": "vriEHCbEfr9l"
      }
    },
    {
      "cell_type": "code",
      "source": [
        "basic question"
      ],
      "metadata": {
        "id": "4105pFfofsI2"
      },
      "execution_count": null,
      "outputs": []
    },
    {
      "cell_type": "code",
      "source": [],
      "metadata": {
        "id": "XAM5Qjz9qqer"
      },
      "execution_count": null,
      "outputs": []
    },
    {
      "cell_type": "code",
      "execution_count": null,
      "metadata": {
        "colab": {
          "base_uri": "https://localhost:8080/"
        },
        "id": "0znZv25fdChv",
        "outputId": "ac343d4c-4268-4992-cdd0-27a10832f945"
      },
      "outputs": [
        {
          "output_type": "stream",
          "name": "stdout",
          "text": [
            "5\n",
            "3.0\n"
          ]
        }
      ],
      "source": [
        "lst1=[1,2,3,4,5]\n",
        "mean=0\n",
        "print(len(lst1))\n",
        "for i in lst1:\n",
        "  mean = mean + i\n",
        "mean=mean/len(lst1)\n",
        "print(mean)\n"
      ]
    },
    {
      "cell_type": "markdown",
      "source": [
        "basic function"
      ],
      "metadata": {
        "id": "TAXGD7i1fuL9"
      }
    },
    {
      "cell_type": "code",
      "source": [
        "lst1.append(3)\n",
        "print(lst1)"
      ],
      "metadata": {
        "colab": {
          "base_uri": "https://localhost:8080/"
        },
        "id": "ijpJiFp4d4Cq",
        "outputId": "6b7a68e2-b6ab-4747-85d7-efbbbc06686a"
      },
      "execution_count": null,
      "outputs": [
        {
          "output_type": "stream",
          "name": "stdout",
          "text": [
            "[1, 2, 3, 4, 5, 3]\n"
          ]
        }
      ]
    },
    {
      "cell_type": "code",
      "source": [
        "lst1.insert(2,4)\n",
        "print(lst1)"
      ],
      "metadata": {
        "colab": {
          "base_uri": "https://localhost:8080/"
        },
        "id": "D6s_-l4UeL7A",
        "outputId": "bf17c194-5816-4472-b53b-90a843c71f8e"
      },
      "execution_count": null,
      "outputs": [
        {
          "output_type": "stream",
          "name": "stdout",
          "text": [
            "[1, 2, 4, 3, 4, 5, 3]\n"
          ]
        }
      ]
    },
    {
      "cell_type": "code",
      "source": [
        "lst1.pop()\n",
        "print(lst1)"
      ],
      "metadata": {
        "colab": {
          "base_uri": "https://localhost:8080/"
        },
        "id": "3dqu0i6peWy-",
        "outputId": "45cd9403-1e22-40b5-a117-e063d52bf735"
      },
      "execution_count": null,
      "outputs": [
        {
          "output_type": "stream",
          "name": "stdout",
          "text": [
            "[1, 2, 4, 3, 4, 5]\n"
          ]
        }
      ]
    },
    {
      "cell_type": "code",
      "source": [
        "lst1.pop(2)\n",
        "print(lst1)"
      ],
      "metadata": {
        "colab": {
          "base_uri": "https://localhost:8080/"
        },
        "id": "MkoiyG20efXM",
        "outputId": "f4d7eb6a-d41d-4e71-ff9f-665095b74bbe"
      },
      "execution_count": null,
      "outputs": [
        {
          "output_type": "stream",
          "name": "stdout",
          "text": [
            "[1, 2, 3, 4, 5]\n"
          ]
        }
      ]
    },
    {
      "cell_type": "markdown",
      "source": [
        "indexing"
      ],
      "metadata": {
        "id": "kXIpUMeKfqHg"
      }
    },
    {
      "cell_type": "code",
      "source": [
        "[0,  1,  2,  3,  4,  5]\n",
        "[-6 -5  -4  -3  -2  -1]"
      ],
      "metadata": {
        "colab": {
          "base_uri": "https://localhost:8080/"
        },
        "id": "VB1zDLKXer2l",
        "outputId": "d3b05776-c9cc-4a17-8812-7a63ea23f851"
      },
      "execution_count": null,
      "outputs": [
        {
          "output_type": "execute_result",
          "data": {
            "text/plain": [
              "[0, 1, 2, 3, 4, 5]"
            ]
          },
          "metadata": {},
          "execution_count": 9
        }
      ]
    },
    {
      "cell_type": "code",
      "source": [
        "print(lst1[-1])"
      ],
      "metadata": {
        "colab": {
          "base_uri": "https://localhost:8080/"
        },
        "id": "bHISpWDKe6MJ",
        "outputId": "354e6a0b-0838-4931-db5b-edffcbff844e"
      },
      "execution_count": null,
      "outputs": [
        {
          "output_type": "stream",
          "name": "stdout",
          "text": [
            "5\n"
          ]
        }
      ]
    },
    {
      "cell_type": "code",
      "source": [
        "lst1[2]=5\n",
        "print(lst1)"
      ],
      "metadata": {
        "colab": {
          "base_uri": "https://localhost:8080/"
        },
        "id": "WcayVUqZgZFa",
        "outputId": "76f3759e-7265-40b5-b01b-cea61b7506b0"
      },
      "execution_count": null,
      "outputs": [
        {
          "output_type": "stream",
          "name": "stdout",
          "text": [
            "[1, 2, 5, 4, 5]\n"
          ]
        }
      ]
    },
    {
      "cell_type": "markdown",
      "source": [
        "tuple"
      ],
      "metadata": {
        "id": "eSkwnNnqfxs0"
      }
    },
    {
      "cell_type": "code",
      "source": [
        "tpl=(1,2,3,4,5,6,4,5,2,3,5,5,4)\n",
        "print(tpl[::2])"
      ],
      "metadata": {
        "colab": {
          "base_uri": "https://localhost:8080/"
        },
        "id": "KoBdgtw_fY9f",
        "outputId": "aab16540-8166-416c-c913-7ba75c781194"
      },
      "execution_count": null,
      "outputs": [
        {
          "output_type": "stream",
          "name": "stdout",
          "text": [
            "(1, 3, 5, 4, 2, 5, 4)\n"
          ]
        }
      ]
    },
    {
      "cell_type": "code",
      "source": [
        "tpl=(23,)\n",
        "print(type(tpl))"
      ],
      "metadata": {
        "colab": {
          "base_uri": "https://localhost:8080/"
        },
        "id": "k31mT-pDgKQv",
        "outputId": "db38961d-ec61-45d8-9489-bfe435c3ca0c"
      },
      "execution_count": null,
      "outputs": [
        {
          "output_type": "stream",
          "name": "stdout",
          "text": [
            "<class 'tuple'>\n"
          ]
        }
      ]
    },
    {
      "cell_type": "code",
      "source": [
        "tpl.count(4)"
      ],
      "metadata": {
        "colab": {
          "base_uri": "https://localhost:8080/"
        },
        "id": "hG2fNlfpgPcr",
        "outputId": "a9b5b38e-4154-4c6a-c44c-10b856bd12dc"
      },
      "execution_count": null,
      "outputs": [
        {
          "output_type": "execute_result",
          "data": {
            "text/plain": [
              "3"
            ]
          },
          "metadata": {},
          "execution_count": 22
        }
      ]
    },
    {
      "cell_type": "code",
      "source": [
        "tpl2=(12,34,56,78)"
      ],
      "metadata": {
        "id": "Bm14yQOBhqAF"
      },
      "execution_count": null,
      "outputs": []
    },
    {
      "cell_type": "code",
      "source": [
        "tpl3=tpl+tpl2"
      ],
      "metadata": {
        "id": "-Yiuy4XpiJmu"
      },
      "execution_count": null,
      "outputs": []
    },
    {
      "cell_type": "code",
      "source": [
        "print(tpl3)"
      ],
      "metadata": {
        "colab": {
          "base_uri": "https://localhost:8080/"
        },
        "id": "T4wnoDo8iL-z",
        "outputId": "3876ab14-0f8e-4c5b-956e-d5aa3eced54c"
      },
      "execution_count": null,
      "outputs": [
        {
          "output_type": "stream",
          "name": "stdout",
          "text": [
            "(1, 2, 3, 4, 5, 6, 4, 5, 2, 3, 5, 5, 4, 12, 34, 56, 78)\n"
          ]
        }
      ]
    },
    {
      "cell_type": "markdown",
      "source": [
        "Sets"
      ],
      "metadata": {
        "id": "JuzwbozMiW31"
      }
    },
    {
      "cell_type": "code",
      "source": [
        "st1={1,2,3,4,5,6,3,2,4,5,1,2,3,4,7,6,5,4}\n",
        "print(st1)\n",
        "tpl=(1,2,3,4,5,6,3,2,4,5,1,2,3,4,7,6,5,4)\n",
        "print(tpl)\n",
        "lst=[1,2,3,4,5,6,3,2,4,5,1,2,3,4,7,6,5,4]\n",
        "print(lst)\n",
        "st2=set(lst)\n",
        "print(st2)"
      ],
      "metadata": {
        "colab": {
          "base_uri": "https://localhost:8080/"
        },
        "id": "6jt8lzmriNwO",
        "outputId": "01f1296e-6359-44ac-e840-bbdea95564bc"
      },
      "execution_count": null,
      "outputs": [
        {
          "output_type": "stream",
          "name": "stdout",
          "text": [
            "{1, 2, 3, 4, 5, 6, 7}\n",
            "(1, 2, 3, 4, 5, 6, 3, 2, 4, 5, 1, 2, 3, 4, 7, 6, 5, 4)\n",
            "[1, 2, 3, 4, 5, 6, 3, 2, 4, 5, 1, 2, 3, 4, 7, 6, 5, 4]\n",
            "{1, 2, 3, 4, 5, 6, 7}\n"
          ]
        }
      ]
    },
    {
      "cell_type": "code",
      "source": [],
      "metadata": {
        "id": "l369apZzisit"
      },
      "execution_count": null,
      "outputs": []
    }
  ]
}